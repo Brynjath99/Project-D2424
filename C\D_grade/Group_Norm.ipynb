{
  "nbformat": 4,
  "nbformat_minor": 0,
  "metadata": {
    "colab": {
      "name": "Untitled5.ipynb",
      "provenance": []
    },
    "kernelspec": {
      "name": "python3",
      "display_name": "Python 3"
    },
    "language_info": {
      "name": "python"
    },
    "accelerator": "GPU"
  },
  "cells": [
    {
      "cell_type": "code",
      "source": [
        "%tensorflow_version 2.x\n",
        "import tensorflow as tf\n",
        "device_name = tf.test.gpu_device_name()\n",
        "if device_name != '/device:GPU:0':\n",
        "  raise SystemError('GPU device not found')\n",
        "print('Found GPU at: {}'.format(device_name))"
      ],
      "metadata": {
        "colab": {
          "base_uri": "https://localhost:8080/"
        },
        "id": "VUZXYMiQNlYC",
        "outputId": "5439816a-9f97-4196-d8c6-08ccea57b8e2"
      },
      "execution_count": 1,
      "outputs": [
        {
          "output_type": "stream",
          "name": "stdout",
          "text": [
            "Found GPU at: /device:GPU:0\n"
          ]
        }
      ]
    },
    {
      "cell_type": "code",
      "source": [
        "#!pip install tensorflow-addons"
      ],
      "metadata": {
        "id": "_C0TO_GgNmQT"
      },
      "execution_count": 4,
      "outputs": []
    },
    {
      "cell_type": "code",
      "execution_count": 5,
      "metadata": {
        "id": "ie12VgJnNfOF"
      },
      "outputs": [],
      "source": [
        "# example of loading the cifar10 dataset\n",
        "import sys\n",
        "\n",
        "from matplotlib import pyplot\n",
        "from tensorflow.keras.utils import to_categorical\n",
        "from tensorflow.keras.models import Sequential\n",
        "from tensorflow.keras.layers import Conv2D\n",
        "from tensorflow.keras.layers import MaxPooling2D\n",
        "from tensorflow.keras.layers import Dense\n",
        "from tensorflow.keras.layers import Flatten\n",
        "from tensorflow.keras.layers import Dropout\n",
        "from tensorflow.keras.optimizers import SGD, Adam\n",
        "from tensorflow.keras.datasets import cifar10\n",
        "from sklearn.preprocessing import StandardScaler\n",
        "from tensorflow_addons.layers import GroupNormalization\n",
        "from keras.layers import BatchNormalization\n",
        "\n",
        "import ssl\n",
        "ssl._create_default_https_context = ssl._create_unverified_context"
      ]
    },
    {
      "cell_type": "code",
      "source": [
        "# load train and test dataset\n",
        "def load_dataset():\n",
        "    # load dataset\n",
        "    (trainX, trainY), (testX, testY) = cifar10.load_data()\n",
        "    # one hot encode target values\n",
        "    trainY = to_categorical(trainY)\n",
        "    testY = to_categorical(testY)\n",
        "    return trainX, trainY, testX, testY"
      ],
      "metadata": {
        "id": "-Lw1s1WNN2mJ"
      },
      "execution_count": 6,
      "outputs": []
    },
    {
      "cell_type": "code",
      "source": [
        "#scale pixels\n",
        "def prep_pixels(train, test):\n",
        "    # convert from integers to floats\n",
        "    train_norm = train.astype('float32')\n",
        "    test_norm = test.astype('float32')\n",
        "    # normalize to range 0-1\n",
        "    train_norm = train_norm / 255.0\n",
        "    test_norm = test_norm / 255.0\n",
        "    # return normalized images\n",
        "    return train_norm, test_norm"
      ],
      "metadata": {
        "id": "M9S7d2chN5oj"
      },
      "execution_count": 7,
      "outputs": []
    },
    {
      "cell_type": "code",
      "source": [
        "#Standardization\n",
        "def Standardization(X1,X2):\n",
        "    scaler = StandardScaler()\n",
        "    nsamples, nx, ny,nz = X1.shape\n",
        "    d1_train_dataset = X1.reshape((nsamples,nx*ny*nz))\n",
        "    standardized_1 = scaler.fit_transform(d1_train_dataset)\n",
        "    nsampless, nxx, nyy,nzz = X2.shape\n",
        "    d2_train_dataset = X2.reshape((nsampless,nxx*nyy*nzz))\n",
        "    standardized_2 = scaler.fit_transform(d2_train_dataset)\n",
        "    return standardized_1,standardized_2"
      ],
      "metadata": {
        "id": "sSdeWvcvN7pS"
      },
      "execution_count": 8,
      "outputs": []
    },
    {
      "cell_type": "code",
      "source": [
        "# define cnn model\n",
        "def define_model():\n",
        "\tmodel = Sequential()\n",
        "\tmodel.add(Conv2D(32, (3, 3), activation='relu', kernel_initializer='he_uniform', padding='same', input_shape=(32, 32, 3)))\n",
        "\tmodel.add(GroupNormalization())\n",
        "\tmodel.add(Conv2D(32, (3, 3), activation='relu', kernel_initializer='he_uniform', padding='same'))\n",
        "\tmodel.add(GroupNormalization())\n",
        "\tmodel.add(MaxPooling2D((2, 2)))\n",
        "\tmodel.add(Dropout(0.2))\n",
        "\tmodel.add(Conv2D(64, (3, 3), activation='relu', kernel_initializer='he_uniform', padding='same'))\n",
        "\tmodel.add(GroupNormalization())\n",
        "\tmodel.add(Conv2D(64, (3, 3), activation='relu', kernel_initializer='he_uniform', padding='same'))\n",
        "\tmodel.add(GroupNormalization())\n",
        "\tmodel.add(MaxPooling2D((2, 2)))\n",
        "\tmodel.add(Dropout(0.3))\n",
        "\tmodel.add(Conv2D(128, (3, 3), activation='relu', kernel_initializer='he_uniform', padding='same'))\n",
        "\tmodel.add(GroupNormalization())\n",
        "\tmodel.add(Conv2D(128, (3, 3), activation='relu', kernel_initializer='he_uniform', padding='same'))\n",
        "\tmodel.add(GroupNormalization())\n",
        "\tmodel.add(MaxPooling2D((2, 2)))\n",
        "\tmodel.add(Dropout(0.4))\n",
        "\tmodel.add(Flatten())\n",
        "\tmodel.add(Dense(128, activation='relu', kernel_initializer='he_uniform'))\n",
        "\tmodel.add(GroupNormalization())\n",
        "\tmodel.add(Dropout(0.5))\n",
        "\tmodel.add(Dense(10, activation='softmax'))\n",
        "\t# compile model\n",
        "\topt = Adam(learning_rate=0.001)\n",
        "\tmodel.compile(optimizer=opt, loss='categorical_crossentropy', metrics=['accuracy'])\n",
        "\treturn model"
      ],
      "metadata": {
        "id": "21QFpHVgN-ZZ"
      },
      "execution_count": 12,
      "outputs": []
    },
    {
      "cell_type": "code",
      "source": [
        "# plot diagnostic learning curves\n",
        "def summarize_diagnostics(history):\n",
        "\tfig, (ax1, ax2) = pyplot.subplots(2)\n",
        "\t# plot loss\n",
        "\tax1.set_title('Cross Entropy Loss')\n",
        "\tax1.plot(history.history['loss'], color='blue', label='train')\n",
        "\tax1.plot(history.history['val_loss'], color='orange', label='test')\n",
        "\t# plot accuracy\n",
        "\tax2.set_title('Classification Accuracy')\n",
        "\tax2.plot(history.history['accuracy'], color='blue', label='train')\n",
        "\tax2.plot(history.history['val_accuracy'], color='orange', label='test')\n",
        "\tfig.tight_layout()\n",
        "\t# save plot to file\n",
        "\tfilename = 'Group_Normalization'\n",
        "\tpyplot.savefig(filename + '_plot.png')\n",
        "\tpyplot.show()"
      ],
      "metadata": {
        "id": "lFwBmgJrOKf6"
      },
      "execution_count": 10,
      "outputs": []
    },
    {
      "cell_type": "code",
      "source": [
        "# run the test harness for evaluating a model\n",
        "def run_test_harness():\n",
        "\t# load dataset\n",
        "\ttrainX, trainY, testX, testY = load_dataset()\n",
        "\t# prepare pixel data\n",
        "\ttrainX, testX = prep_pixels(trainX, testX)\n",
        "\ttrainX, testX =Standardization(trainX, testX)\n",
        "\t# Reshape\n",
        "\tnsamples, nx =trainX.shape\n",
        "\ttrainX = trainX.reshape((nsamples,32,32,3))\n",
        "\tnnsamples, nnx =testX.shape\n",
        "\ttestX = testX.reshape((nnsamples,32,32,3))\n",
        "\t# define model\n",
        "\tmodel = define_model()\n",
        "\t# fit model\n",
        "\thistory = model.fit(trainX, trainY, epochs=100, batch_size=64, validation_data=(testX, testY), verbose=0)\n",
        "\t#model.save('final_model.h5')\n",
        "\t# evaluate model\n",
        "\t_, acc = model.evaluate(testX, testY, verbose=0)\n",
        "\tprint('> %.3f' % (acc * 100.0))\n",
        "\t# learning curves\n",
        "\tsummarize_diagnostics(history)\n",
        "# entry point, run the test harness\n",
        "run_test_harness() # 54 min 10 sec"
      ],
      "metadata": {
        "colab": {
          "base_uri": "https://localhost:8080/",
          "height": 314
        },
        "id": "ayI_S2ORONY7",
        "outputId": "c29c63e5-66da-4696-819c-028b57845717"
      },
      "execution_count": 13,
      "outputs": [
        {
          "output_type": "stream",
          "name": "stdout",
          "text": [
            "> 86.380\n"
          ]
        },
        {
          "output_type": "display_data",
          "data": {
            "text/plain": [
              "<Figure size 432x288 with 2 Axes>"
            ],
            "image/png": "[encoded data removed]"
          },
          "metadata": {
            "needs_background": "light"
          }
        }
      ]
    }
  ]
}