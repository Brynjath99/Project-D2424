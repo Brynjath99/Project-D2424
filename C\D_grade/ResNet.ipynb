{
  "cells": [
    {
      "cell_type": "code",
      "execution_count": null,
      "metadata": {
        "colab": {
          "base_uri": "https://localhost:8080/"
        },
        "id": "4wXOkB0vL1Wd",
        "outputId": "339ce968-7745-4f7b-d481-9de55c012612"
      },
      "outputs": [
        {
          "name": "stdout",
          "output_type": "stream",
          "text": [
            "Found GPU at: /device:GPU:0\n"
          ]
        }
      ],
      "source": [
        "%tensorflow_version 2.x\n",
        "import tensorflow as tf\n",
        "device_name = tf.test.gpu_device_name()\n",
        "if device_name != '/device:GPU:0':\n",
        "  raise SystemError('GPU device not found')\n",
        "print('Found GPU at: {}'.format(device_name))"
      ]
    },
    {
      "cell_type": "code",
      "execution_count": null,
      "metadata": {
        "id": "MrKSiDORL4su"
      },
      "outputs": [],
      "source": [
        "# baseline model with dropout on the cifar10 dataset\n",
        "import sys\n",
        "import tensorflow\n",
        "from tensorflow import keras\n",
        "from matplotlib import pyplot\n",
        "from keras.datasets import cifar10\n",
        "#from keras.utils import to_categorical\n",
        "from tensorflow.keras.utils import to_categorical\n",
        "from keras.models import Sequential\n",
        "from keras.layers import Conv2D\n",
        "from keras.layers import MaxPooling2D\n",
        "from keras.layers import AveragePooling2D\n",
        "from tensorflow.keras.layers import GlobalAveragePooling2D\n",
        "from keras.layers import Dense\n",
        "from keras.layers import Flatten\n",
        "from keras.layers import Dropout\n",
        "#from keras.optimizers import SGD\n",
        "from tensorflow.keras.optimizers import SGD\n",
        "from keras.regularizers import l2\n",
        "from keras.preprocessing.image import ImageDataGenerator\n",
        "from keras.layers import Dropout\n",
        "from keras.layers import BatchNormalization\n",
        "from tensorflow.keras.optimizers import Adam\n",
        "from sklearn.preprocessing import StandardScaler\n",
        "\n",
        "from tensorflow.keras import Model\n",
        "from tensorflow.keras.layers import Conv2D\n",
        "from tensorflow.keras.layers import ReLU\n",
        "from tensorflow.keras.layers import Add\n",
        "from tensorflow.keras.layers import Input\n",
        "from keras.layers import Activation\n",
        "\n",
        "# load train and test dataset\n",
        "def load_dataset():\n",
        "\t# load dataset\n",
        "\t(trainX, trainY), (testX, testY) = cifar10.load_data()\n",
        "\t# one hot encode target values\n",
        "\ttrainY = to_categorical(trainY)\n",
        "\ttestY = to_categorical(testY)\n",
        "\treturn trainX, trainY, testX, testY\n",
        " \n",
        "# scale pixels\n",
        "def prep_pixels(train, test):\n",
        "\t# convert from integers to floats\n",
        "\ttrain_norm = train.astype('float32')\n",
        "\ttest_norm = test.astype('float32')\n",
        "\t# normalize to range 0-1\n",
        "\ttrain_norm = train_norm / 255.0\n",
        "\ttest_norm = test_norm / 255.0\n",
        "\t# return normalized images\n",
        "\treturn train_norm, test_norm"
      ]
    },
    {
      "cell_type": "code",
      "execution_count": 50,
      "metadata": {
        "id": "TxUTtZH2L8PE"
      },
      "outputs": [],
      "source": [
        "def define_model_Skip():\n",
        "  input_shape=(32, 32, 3)\n",
        "  X_input = keras.layers.Input(input_shape)\n",
        "  x = keras.layers.ZeroPadding2D((3, 3))(X_input)\n",
        "\n",
        "  x_shortcut=X_input\n",
        "\n",
        "  x=Conv2D(32, (3, 3), activation='relu', kernel_initializer='he_uniform',strides=(2,2), padding='same')(x)\n",
        "  x=Conv2D(32, (3, 3), activation='relu', kernel_initializer='he_uniform', padding='same')(x) \n",
        "  x=Conv2D(32, (3, 3), activation='relu', kernel_initializer='he_uniform', padding='same',strides=(2, 2))(x) \n",
        "\n",
        "  x=Conv2D(64, (3, 3), activation='relu', kernel_initializer='he_uniform', padding='same')(x)\n",
        "  x=Conv2D(64, (3, 3), activation='relu', kernel_initializer='he_uniform', padding='same')(x)\n",
        "  x=Conv2D(64, (3, 3), activation='relu', kernel_initializer='he_uniform', padding='same',strides=(2, 2))(x)\n",
        "\n",
        "  x=Conv2D(128, (3, 3), activation='relu', kernel_initializer='he_uniform', padding='same')(x)\n",
        "  x=Conv2D(128, (3, 3), activation='relu', kernel_initializer='he_uniform', padding='same')(x) \n",
        "  x_shortcut=Conv2D(128, (3, 3), activation='relu', kernel_initializer='he_uniform', padding='same',strides=(2,2))(x_shortcut)\n",
        "\n",
        "  x_shortcut=Conv2D(128, (3, 3), activation='relu', kernel_initializer='he_uniform', padding='valid',strides=(3, 3))(x_shortcut)\n",
        "  print(tf.shape(x))\n",
        "  print(tf.shape(x_shortcut))\n",
        "\n",
        "  x= Add()([x, x_shortcut])\n",
        "\n",
        "  x=GlobalAveragePooling2D()(x)\n",
        "  x=Flatten()(x)\n",
        "  x=Dense(10, activation='softmax',kernel_initializer='he_uniform')(x)\n",
        "  model = Model(inputs=X_input, outputs=x)\n",
        "  return model"
      ]
    },
    {
      "cell_type": "code",
      "execution_count": 53,
      "metadata": {
        "id": "Sp1BC_P6MAol"
      },
      "outputs": [],
      "source": [
        "import matplotlib.pyplot as plt\n",
        "\n",
        "def summarize_diagnostics(history):\n",
        "\tfig, (ax1, ax2) = plt.subplots(2)\n",
        "\t# plot loss\n",
        "\tax1.set_title('Cross Entropy Loss')\n",
        "\tax1.plot(history.history['loss'], color='blue', label='train')\n",
        "\tax1.plot(history.history['val_loss'], color='orange', label='test')\n",
        "\t# plot accuracy\n",
        "\tax2.set_title('Classification Accuracy')\n",
        "\tax2.plot(history.history['accuracy'], color='blue', label='train')\n",
        "\tax2.plot(history.history['val_accuracy'], color='orange', label='test')\n",
        "\tfig.tight_layout()\n",
        "\t# save plot to file\n",
        "\tfilename = 'Enter filename'\n",
        "\t#plt.savefig(filename + '_plot.png')\n",
        "\tplt.show()"
      ]
    },
    {
      "cell_type": "code",
      "source": [
        "trainX, trainY, testX, testY = load_dataset()\n",
        "# prepare pixel data\n",
        "trainX, testX = prep_pixels(trainX, testX)\n",
        "# define model\n",
        "model = define_model_Skip()\n",
        "opt = SGD(learning_rate=0.001)\n",
        "model.compile(optimizer=opt, loss='categorical_crossentropy', metrics=['accuracy'])\n",
        "history = model.fit(trainX, trainY, epochs=400, batch_size=64, validation_data=(testX, testY), verbose=0)\n",
        "# Evaluate Model\n",
        "_, acc = model.evaluate(testX, testY, verbose=0)\n",
        "print('> %.3f' % (acc * 100.0),\"%\")\n",
        "# learning curves\n",
        "summarize_diagnostics(history)"
      ],
      "metadata": {
        "colab": {
          "base_uri": "https://localhost:8080/",
          "height": 349
        },
        "id": "4Niy6cW7SbBl",
        "outputId": "df4c759d-3d4c-43f9-97ec-913c9df1a1cd"
      },
      "execution_count": 59,
      "outputs": [
        {
          "output_type": "stream",
          "name": "stdout",
          "text": [
            "KerasTensor(type_spec=TensorSpec(shape=(4,), dtype=tf.int32, name=None), inferred_value=[None, 5, 5, 128], name='tf.compat.v1.shape_48/Shape:0', description=\"created by layer 'tf.compat.v1.shape_48'\")\n",
            "KerasTensor(type_spec=TensorSpec(shape=(4,), dtype=tf.int32, name=None), inferred_value=[None, 5, 5, 128], name='tf.compat.v1.shape_49/Shape:0', description=\"created by layer 'tf.compat.v1.shape_49'\")\n",
            "> 60.430 %\n"
          ]
        },
        {
          "output_type": "display_data",
          "data": {
            "text/plain": [
              "<Figure size 432x288 with 2 Axes>"
            ],
            "image/png": "[encoded data removed]"
          },
          "metadata": {
            "needs_background": "light"
          }
        }
      ]
    }
  ],
  "metadata": {
    "accelerator": "GPU",
    "colab": {
      "name": "Untitled2.ipynb",
      "provenance": [],
      "collapsed_sections": []
    },
    "kernelspec": {
      "display_name": "Python 3",
      "name": "python3"
    },
    "language_info": {
      "name": "python"
    }
  },
  "nbformat": 4,
  "nbformat_minor": 0
}